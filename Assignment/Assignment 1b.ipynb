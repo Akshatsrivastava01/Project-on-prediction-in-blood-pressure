{
 "cells": [
  {
   "cell_type": "code",
   "execution_count": 1,
   "metadata": {},
   "outputs": [
    {
     "name": "stdout",
     "output_type": "stream",
     "text": [
      "Enter a number:- 459\n",
      "Not a armstrong number\n"
     ]
    }
   ],
   "source": [
    "n=int(input(\"Enter a number:- \"))\n",
    "sum=0\n",
    "temp=n\n",
    "length= len(str(n))\n",
    "while(temp>0):\n",
    "    dig=temp%10\n",
    "    sum=sum+(dig**length)\n",
    "    temp=temp//10\n",
    "\n",
    "if(sum==n):\n",
    "    print(\"Armstrong number\")\n",
    "else:\n",
    "    print(\"Not a armstrong number\")"
   ]
  },
  {
   "cell_type": "code",
   "execution_count": null,
   "metadata": {},
   "outputs": [],
   "source": []
  }
 ],
 "metadata": {
  "kernelspec": {
   "display_name": "Python 3",
   "language": "python",
   "name": "python3"
  },
  "language_info": {
   "codemirror_mode": {
    "name": "ipython",
    "version": 3
   },
   "file_extension": ".py",
   "mimetype": "text/x-python",
   "name": "python",
   "nbconvert_exporter": "python",
   "pygments_lexer": "ipython3",
   "version": "3.7.6"
  }
 },
 "nbformat": 4,
 "nbformat_minor": 4
}
